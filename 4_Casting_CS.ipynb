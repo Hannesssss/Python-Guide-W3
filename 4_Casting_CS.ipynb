{
 "cells": [
  {
   "cell_type": "markdown",
   "metadata": {},
   "source": [
    "# 4. Casting"
   ]
  },
  {
   "cell_type": "markdown",
   "metadata": {},
   "source": [
    "## 4.1 Specify a Variable Type"
   ]
  },
  {
   "cell_type": "markdown",
   "metadata": {},
   "source": [
    "There may be times when you want to specify a type on to a variable. This can be done with casting. Python is an object-orientated language, and as such it uses classes to define data types, including its primitive types.\n",
    "\n",
    "Casting in python is therefore done using constructor functions:\n",
    "\n",
    "- **int()** - constructs an integer number from an integer literal, a float literal ( by remoinv all decimals), or a string literal (provided the string represents a whole number)\n",
    "\n",
    "- **float** - constructs a float number from an interger literal, a float literal or a string literal (provideded the string represents a float or an integer)\n",
    "\n",
    "- **str** - constructs a string from a wide variety of data types, including strings, integer literals and float literals"
   ]
  },
  {
   "cell_type": "code",
   "execution_count": 4,
   "metadata": {},
   "outputs": [
    {
     "name": "stdout",
     "output_type": "stream",
     "text": [
      "1 2 3\n",
      "1.0 2.8 3.0\n",
      "s1 2 3.0\n"
     ]
    }
   ],
   "source": [
    "# Examples:\n",
    "\n",
    "# Integers:\n",
    "\n",
    "x = int(1)          # x will be 1\n",
    "y = int(2.8)        # y will be 2\n",
    "z = int(\"3\")        # z will be 3\n",
    "\n",
    "print(x, y, z)\n",
    "\n",
    "# Floats:\n",
    "\n",
    "x = float(1)        # x will be 1.0\n",
    "y = float(2.8)      # y will be 2.8\n",
    "z = float(\"3\")      # z will be 3.0\n",
    "w = float(\"4.2\")    # w will be 4.2\n",
    "\n",
    "print(x, y, z)\n",
    "\n",
    "# Strings:\n",
    "\n",
    "x = str(\"s1\")       # x will be 's1'\n",
    "y = str(2)          # y will be '2'\n",
    "z = str(3.0)        # z will be '3.0'\n",
    "\n",
    "print(x, y, z)"
   ]
  }
 ],
 "metadata": {
  "kernelspec": {
   "display_name": "Python 3.9.13 ('Python-Course-Hannes-Hedberg-29FBIT1T')",
   "language": "python",
   "name": "python3"
  },
  "language_info": {
   "codemirror_mode": {
    "name": "ipython",
    "version": 3
   },
   "file_extension": ".py",
   "mimetype": "text/x-python",
   "name": "python",
   "nbconvert_exporter": "python",
   "pygments_lexer": "ipython3",
   "version": "3.9.13"
  },
  "orig_nbformat": 4,
  "vscode": {
   "interpreter": {
    "hash": "c225418382cb9b5ed327af108c087245f0400ef7b129ef9d64855923a1b90743"
   }
  }
 },
 "nbformat": 4,
 "nbformat_minor": 2
}
