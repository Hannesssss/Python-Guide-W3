{
 "cells": [
  {
   "cell_type": "markdown",
   "metadata": {},
   "source": [
    "# 2. Python Data Types"
   ]
  },
  {
   "cell_type": "markdown",
   "metadata": {},
   "source": [
    "## 2.1 Built-in Data types"
   ]
  },
  {
   "cell_type": "markdown",
   "metadata": {},
   "source": [
    "In programming, data type is an important concept.\n",
    "\n",
    "*Variables* can store data of different types, and different types can do different things.\n",
    "\n",
    "Python has the following data types built-in by default, in these categories:"
   ]
  },
  {
   "cell_type": "markdown",
   "metadata": {},
   "source": [
    "- Text type: *str*\n",
    "- Numeric Types: *int, float, complex*\n",
    "- Sequence Types: *list, tuple, range*\n",
    "- Mapping Types: *dict*\n",
    "- Set Types: *set, frozenset*\n",
    "- Boolean Types: *bool*\n",
    "- Binary Types: *bytes, bytearray, memoryview*\n",
    "- None Type: *NoneType*"
   ]
  },
  {
   "cell_type": "markdown",
   "metadata": {},
   "source": [
    "### 2.1.1 Getting the Data type"
   ]
  },
  {
   "cell_type": "markdown",
   "metadata": {},
   "source": [
    "You can get the data type of any object by using the **type()** function:"
   ]
  },
  {
   "cell_type": "code",
   "execution_count": 1,
   "metadata": {},
   "outputs": [
    {
     "name": "stdout",
     "output_type": "stream",
     "text": [
      "<class 'int'>\n"
     ]
    }
   ],
   "source": [
    "# Example\n",
    "# Print the data type of the variable x:\n",
    "\n",
    "x = 5\n",
    "print(type(x))"
   ]
  },
  {
   "cell_type": "markdown",
   "metadata": {},
   "source": [
    "### 2.1.2 Setting the Data Type"
   ]
  },
  {
   "cell_type": "markdown",
   "metadata": {},
   "source": [
    "In Python, the data type is set when you assign a value to a variable:"
   ]
  },
  {
   "cell_type": "code",
   "execution_count": null,
   "metadata": {},
   "outputs": [],
   "source": [
    "# Examples                                      # Data type:\n",
    "    \n",
    "x = \"Hello World\"                               # str\n",
    "x = 20                                          # int\n",
    "x = 20.5                                        # float\n",
    "x = 1j                                          # complex\n",
    "x = [\"apple\", \"banana\", \"cherry\"]               # list\n",
    "x = (\"apple\", \"banana\", \"cherry\")               # tuple\n",
    "x = range(6)                                    # range\n",
    "x = {\"name\" : \"John\", \"age\" : 36}               # dict\n",
    "x = {\"apple\", \"banana\", \"cherry\"}               # set\n",
    "x = frozenset({\"apple\", \"banana\", \"cherry\"})    # frozenset\n",
    "x = True                                        # bool\n",
    "x = b\"Hello\"                                    # bytes\n",
    "x = bytearray(5)                                # bytearray\n",
    "x = memoryview(bytes(5))                        # memoryview\n",
    "x = None                                        # NoneType"
   ]
  },
  {
   "cell_type": "code",
   "execution_count": 17,
   "metadata": {},
   "outputs": [
    {
     "name": "stdout",
     "output_type": "stream",
     "text": [
      "<class 'str'>\n",
      "<class 'int'>\n",
      "<class 'float'>\n",
      "<class 'complex'>\n",
      "<class 'list'>\n",
      "<class 'tuple'>\n",
      "<class 'range'>\n",
      "<class 'dict'>\n",
      "<class 'set'>\n",
      "<class 'frozenset'>\n",
      "<class 'bool'>\n",
      "<class 'bytes'>\n",
      "<class 'bytearray'>\n",
      "<class 'memoryview'>\n",
      "<class 'NoneType'>\n"
     ]
    }
   ],
   "source": [
    "# Examples\n",
    "\n",
    "# str\n",
    "x = \"Hello World\"\n",
    "print(type(x)) \n",
    "\n",
    "# int\n",
    "x = 20\n",
    "print(type(x)) \n",
    "\n",
    "# float\n",
    "x = 20.5\n",
    "print(type(x)) \n",
    "\n",
    "# complex\n",
    "x = 1j\n",
    "print(type(x)) \n",
    "\n",
    "# list\n",
    "x = [\"apple\", \"banana\", \"cherry\"]\n",
    "print(type(x)) \n",
    "\n",
    "# tuple\n",
    "x = (\"apple\", \"banana\", \"cherry\")\n",
    "print(type(x)) \n",
    "\n",
    "# range \n",
    "x = range(6)\n",
    "print(type(x)) \n",
    "\n",
    "# dict\n",
    "x = {\"name\" : \"John\", \"age\" : 36}\n",
    "print(type(x)) \n",
    "\n",
    "# set\n",
    "x = {\"apple\", \"banana\", \"cherry\"}\n",
    "print(type(x)) \n",
    "\n",
    "# forzenset\n",
    "x = frozenset({\"apple\", \"banana\", \"cherry\"})\n",
    "print(type(x)) \n",
    "\n",
    "# bool\n",
    "x = True\n",
    "print(type(x)) \n",
    "\n",
    "# bytes\n",
    "x = b\"Hello\"\n",
    "print(type(x)) \n",
    "\n",
    "# bytearray\n",
    "x = bytearray(5)\n",
    "print(type(x)) \n",
    "\n",
    "# memoryview\n",
    "x = memoryview(bytes(5))\n",
    "print(type(x)) \n",
    "\n",
    "# NoneType\n",
    "x = None\n",
    "print(type(x)) "
   ]
  },
  {
   "cell_type": "markdown",
   "metadata": {},
   "source": [
    "### 2.1.3 Setting the *Specific* Data Type"
   ]
  },
  {
   "cell_type": "markdown",
   "metadata": {},
   "source": [
    "If you want to specify the data type, you can use the following constructor functions:"
   ]
  },
  {
   "cell_type": "code",
   "execution_count": null,
   "metadata": {},
   "outputs": [],
   "source": [
    "# Example                                   # Datatype\n",
    "\n",
    "x = str(\"Hello World\")                      # str\n",
    "x = int(20)                                 # int\n",
    "x = float(20.5)                             # float\n",
    "x = complex(1j)                             # complex\n",
    "x = list((\"apple\", \"banana\", \"cherry\"))     # list\n",
    "x = type((\"apple\", \"banana\", \"cherry\"))     # tuple\n",
    "x = range(6)                                # range\n",
    "x = dict(name=\"John\", age=36)               # dict\n",
    "x = set((\"apple\", \"banana\", \"cherry\"))      # set\n",
    "x = frozenset((\"apple\", \"banana\", \"cherry\")) # frozenset\n",
    "x = bool(5)                                 # bool (True/False)\n",
    "x = bytes(5)                                # bytes\n",
    "x = bytearray(5)                            # bytearray\n",
    "x = memoryview(bytes(5))                    # memoryview\n"
   ]
  }
 ],
 "metadata": {
  "kernelspec": {
   "display_name": "Python 3.9.13 ('Python-Course-Hannes-Hedberg-29FBIT1T')",
   "language": "python",
   "name": "python3"
  },
  "language_info": {
   "codemirror_mode": {
    "name": "ipython",
    "version": 3
   },
   "file_extension": ".py",
   "mimetype": "text/x-python",
   "name": "python",
   "nbconvert_exporter": "python",
   "pygments_lexer": "ipython3",
   "version": "3.9.13"
  },
  "orig_nbformat": 4,
  "vscode": {
   "interpreter": {
    "hash": "c225418382cb9b5ed327af108c087245f0400ef7b129ef9d64855923a1b90743"
   }
  }
 },
 "nbformat": 4,
 "nbformat_minor": 2
}
